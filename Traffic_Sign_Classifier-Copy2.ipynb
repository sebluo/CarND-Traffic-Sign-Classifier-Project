{
 "cells": [
  {
   "cell_type": "markdown",
   "metadata": {},
   "source": [
    "# Self-Driving Car Engineer Nanodegree\n",
    "\n",
    "## Deep Learning\n",
    "\n",
    "## Project: Build a Traffic Sign Recognition Classifier\n",
    "\n",
    "In this notebook, a template is provided for you to implement your functionality in stages which is required to successfully complete this project. If additional code is required that cannot be included in the notebook, be sure that the Python code is successfully imported and included in your submission, if necessary. Sections that begin with **'Implementation'** in the header indicate where you should begin your implementation for your project. Note that some sections of implementation are optional, and will be marked with **'Optional'** in the header.\n",
    "\n",
    "In addition to implementing code, there will be questions that you must answer which relate to the project and your implementation. Each section where you will answer a question is preceded by a **'Question'** header. Carefully read each question and provide thorough answers in the following text boxes that begin with **'Answer:'**. Your project submission will be evaluated based on your answers to each of the questions and the implementation you provide.\n",
    "\n",
    ">**Note:** Code and Markdown cells can be executed using the **Shift + Enter** keyboard shortcut. In addition, Markdown cells can be edited by typically double-clicking the cell to enter edit mode."
   ]
  },
  {
   "cell_type": "markdown",
   "metadata": {},
   "source": [
    "---\n",
    "## Step 0: Load The Data"
   ]
  },
  {
   "cell_type": "code",
   "execution_count": 1,
   "metadata": {
    "collapsed": false
   },
   "outputs": [
    {
     "name": "stdout",
     "output_type": "stream",
     "text": [
      "(39209, 32, 32, 3) (39209,) (12630, 32, 32, 3) (12630,)\n",
      "(39209, 2) (39209, 2) (39209, 4) (39209, 4)\n"
     ]
    }
   ],
   "source": [
    "# Load pickled data\n",
    "import pickle\n",
    "\n",
    "# TODO: Fill this in based on where you saved the training and testing data\n",
    "\n",
    "training_file = './traffic-signs-data/train.p'\n",
    "testing_file = './traffic-signs-data/test.p'\n",
    "\n",
    "with open(training_file, mode='rb') as f:\n",
    "    train = pickle.load(f)\n",
    "with open(testing_file, mode='rb') as f:\n",
    "    test = pickle.load(f)\n",
    "\n",
    "FEATURES = 'features'\n",
    "LABELS = 'labels'\n",
    "SIZES = 'sizes'\n",
    "COORDS = 'coords'\n",
    "\n",
    "X_train_raw, y_train_raw, Sizes_train, Coords_train = train[FEATURES], train[LABELS], train[SIZES], train[COORDS]\n",
    "X_test, y_test, Sizes_test, Coords_test = test[FEATURES], test[LABELS], train[SIZES], train[COORDS]  \n",
    "\n",
    "print(X_train_raw.shape,y_train_raw.shape,X_test.shape,y_test.shape)\n",
    "print(Sizes_train.shape,Sizes_test.shape,Coords_train.shape,Coords_test.shape)\n",
    "\n",
    "\n"
   ]
  },
  {
   "cell_type": "markdown",
   "metadata": {},
   "source": [
    "---\n",
    "\n",
    "## Step 1: Dataset Summary & Exploration\n",
    "\n",
    "The pickled data is a dictionary with 4 key/value pairs:\n",
    "\n",
    "- `'features'` is a 4D array containing raw pixel data of the traffic sign images, (num examples, width, height, channels).\n",
    "- `'labels'` is a 2D array containing the label/class id of the traffic sign. The file `signnames.csv` contains id -> name mappings for each id.\n",
    "- `'sizes'` is a list containing tuples, (width, height) representing the the original width and height the image.\n",
    "- `'coords'` is a list containing tuples, (x1, y1, x2, y2) representing coordinates of a bounding box around the sign in the image. **THESE COORDINATES ASSUME THE ORIGINAL IMAGE. THE PICKLED DATA CONTAINS RESIZED VERSIONS (32 by 32) OF THESE IMAGES**\n",
    "\n",
    "Complete the basic data summary below."
   ]
  },
  {
   "cell_type": "code",
   "execution_count": 2,
   "metadata": {
    "collapsed": false
   },
   "outputs": [
    {
     "name": "stdout",
     "output_type": "stream",
     "text": [
      "Number of training examples = 39209\n",
      "Number of testing examples = 12630\n",
      "Image data shape = (12630, 32, 32, 3)\n",
      "Number of classes = 43\n"
     ]
    }
   ],
   "source": [
    "### Replace each question mark with the appropriate value.\n",
    "\n",
    "# TODO: Number of training examples\n",
    "n_train_raw = X_train_raw.shape[0]\n",
    "\n",
    "# TODO: Number of testing examples.\n",
    "n_test = X_test.shape[0]\n",
    "\n",
    "# TODO: What's the shape of an traffic sign image?\n",
    "image_shape = X_test.shape\n",
    "\n",
    "# TODO: How many unique classes/labels there are in the dataset.\n",
    "n_classes = 43\n",
    "\n",
    "print(\"Number of training examples =\", n_train_raw)\n",
    "print(\"Number of testing examples =\", n_test)\n",
    "print(\"Image data shape =\", image_shape)\n",
    "print(\"Number of classes =\", n_classes)\n",
    "\n"
   ]
  },
  {
   "cell_type": "code",
   "execution_count": 3,
   "metadata": {
    "collapsed": true
   },
   "outputs": [],
   "source": [
    "#jitter generating function implemented  by Vivek Yadav\n",
    "import cv2\n",
    "def transform_image(img,ang_range,shear_range,trans_range):\n",
    "    '''\n",
    "    This function transforms images to generate new images.\n",
    "    The function takes in following arguments,\n",
    "    1- Image\n",
    "    2- ang_range: Range of angles for rotation\n",
    "    3- shear_range: Range of values to apply affine transform to\n",
    "    4- trans_range: Range of values to apply translations over. \n",
    "    \n",
    "    A Random uniform distribution is used to generate different parameters for transformation\n",
    "    \n",
    "    '''\n",
    "    # Rotationsave_file\n",
    "    #print(img.shape)\n",
    "    \n",
    "    ang_rot = np.random.uniform(ang_range)-ang_range/2\n",
    "    rows,cols,ch = img.shape    \n",
    "    Rot_M = cv2.getRotationMatrix2D((cols/2,rows/2),ang_rot,1)\n",
    "\n",
    "    # Translation\n",
    "    tr_x = trans_range*np.random.uniform()-trans_range/2\n",
    "    tr_y = trans_range*np.random.uniform()-trans_range/2\n",
    "    Trans_M = np.float32([[1,0,tr_x],[0,1,tr_y]])\n",
    "\n",
    "    # Shear\n",
    "    pts1 = np.float32([[5,5],[20,5],[5,20]])\n",
    "\n",
    "    pt1 = 5+shear_range*np.random.uniform()-shear_range/2\n",
    "    pt2 = 20+shear_range*np.random.uniform()-shear_range/2\n",
    "\n",
    "    pts2 = np.float32([[pt1,5],[pt2,pt1],[5,pt2]])\n",
    "\n",
    "    shear_M = cv2.getAffineTransform(pts1,pts2)\n",
    "        \n",
    "    img = cv2.warpAffine(img,Rot_M,(cols,rows))\n",
    "    img = cv2.warpAffine(img,Trans_M,(cols,rows))\n",
    "    img = cv2.warpAffine(img,shear_M,(cols,rows))\n",
    "    #print(img.shape)\n",
    "    return img"
   ]
  },
  {
   "cell_type": "markdown",
   "metadata": {},
   "source": [
    "Visualize the German Traffic Signs Dataset using the pickled file(s). This is open ended, suggestions include: plotting traffic sign images, plotting the count of each sign, etc.\n",
    "\n",
    "The [Matplotlib](http://matplotlib.org/) [examples](http://matplotlib.org/examples/index.html) and [gallery](http://matplotlib.org/gallery.html) pages are a great resource for doing visualizations in Python.\n",
    "\n",
    "**NOTE:** It's recommended you start with something simple first. If you wish to do more, come back to it after you've completed the rest of the sections.\n",
    "\n",
    "My tried actions;first,get a view of random image ,then,view different label image of the same class id of the traffic sign."
   ]
  },
  {
   "cell_type": "code",
   "execution_count": 4,
   "metadata": {
    "collapsed": false
   },
   "outputs": [
    {
     "name": "stdout",
     "output_type": "stream",
     "text": [
      "the corresponding label/class id of the traffic sign is  3\n"
     ]
    },
    {
     "data": {
      "image/png": "[encoded data removed]",
      "text/plain": [
       "<matplotlib.figure.Figure at 0x214389006a0>"
      ]
     },
     "metadata": {},
     "output_type": "display_data"
    }
   ],
   "source": [
    "### Data exploration visualization goes here.\n",
    "### Feel free to use as many code cells as needed.\n",
    "import random\n",
    "import matplotlib.pyplot as plt\n",
    "# Visualizations will be shown in the notebook.\n",
    "%matplotlib inline\n",
    "\n",
    "#labelID=33\n",
    "#while 1:\n",
    "index = random.randint(0, len(X_train_raw))\n",
    "#    if y_train[index]==labelID:break        \n",
    "\n",
    "image = X_train_raw[index].squeeze()\n",
    "\n",
    "\n",
    "plt.figure(figsize=(1,1))\n",
    "plt.imshow(image)\n",
    "#plt.imshow(image, cmap=\"gray\")\n",
    "print(\"the corresponding label/class id of the traffic sign is \",y_train_raw[index])\n",
    "\n"
   ]
  },
  {
   "cell_type": "markdown",
   "metadata": {},
   "source": [
    "----\n",
    "\n",
    "## Step 2: Design and Test a Model Architecture\n",
    "\n",
    "Design and implement a deep learning model that learns to recognize traffic signs. Train and test your model on the [German Traffic Sign Dataset](http://benchmark.ini.rub.de/?section=gtsrb&subsection=dataset).\n",
    "\n",
    "There are various aspects to consider when thinking about this problem:\n",
    "\n",
    "- Neural network architecture\n",
    "- Play around preprocessing techniques (normalization, rgb to grayscale, etc)\n",
    "- Number of examples per label (some have more than others).\n",
    "- Generate fake data.\n",
    "\n",
    "Here is an example of a [published baseline model on this problem](http://yann.lecun.com/exdb/publis/pdf/sermanet-ijcnn-11.pdf). It's not required to be familiar with the approach used in the paper but, it's good practice to try to read papers like these.\n",
    "\n",
    "**NOTE:** The LeNet-5 implementation shown in the [classroom](https://classroom.udacity.com/nanodegrees/nd013/parts/fbf77062-5703-404e-b60c-95b78b2f3f9e/modules/6df7ae49-c61c-4bb2-a23e-6527e69209ec/lessons/601ae704-1035-4287-8b11-e2c2716217ad/concepts/d4aca031-508f-4e0b-b493-e7b706120f81) at the end of the CNN lesson is a solid starting point. You'll have to change the number of classes and possibly the preprocessing, but aside from that it's plug and play!"
   ]
  },
  {
   "cell_type": "markdown",
   "metadata": {},
   "source": [
    "### Implementation\n",
    "\n",
    "Use the code cell (or multiple code cells, if necessary) to implement the first step of your project. Once you have completed your implementation and are satisfied with the results, be sure to thoroughly answer the questions that follow."
   ]
  },
  {
   "cell_type": "code",
   "execution_count": 5,
   "metadata": {
    "collapsed": false
   },
   "outputs": [
    {
     "name": "stdout",
     "output_type": "stream",
     "text": [
      "[  210.  2220.  2250.  1410.  1980.  1860.   420.  1440.  1410.  1470.\n",
      "  2010.  1320.  2100.  2160.   780.   630.   420.  1110.  1200.   210.\n",
      "   360.   330.   390.   510.   270.  1500.   600.   240.   540.   270.\n",
      "   450.   780.   240.   689.   420.  1200.   390.   210.  2070.   300.\n",
      "   360.   240.   240.]\n",
      "2250.0\n"
     ]
    }
   ],
   "source": [
    "# see how many input data for each class id of traffic sign\n",
    "import numpy as np\n",
    "import random \n",
    "num_classID=np.zeros(n_classes)\n",
    "\n",
    "for i in range(len(y_train_raw)):\n",
    "    num_classID[y_train_raw[i]]+=1\n",
    "n_label_max=np.max(num_classID)\n",
    "print(num_classID)\n",
    "print(n_label_max)"
   ]
  },
  {
   "cell_type": "code",
   "execution_count": 6,
   "metadata": {
    "collapsed": false
   },
   "outputs": [
    {
     "name": "stdout",
     "output_type": "stream",
     "text": [
      "27447 11762\n",
      "(27447, 32, 32, 3) (27447,) (11762, 32, 32, 3) (11762,)\n",
      "[  143.  1544.  1575.   994.  1421.  1295.   277.   978.   998.  1028.\n",
      "  1412.   930.  1480.  1544.   537.   440.   301.   822.   830.   155.\n",
      "   254.   216.   263.   364.   182.  1058.   407.   164.   350.   184.\n",
      "   323.   555.   166.   469.   292.   820.   287.   145.  1435.   210.\n",
      "   265.   167.   167.]\n",
      "the maximum number of a label in training set is  1575.0\n",
      "[  67.  676.  675.  416.  559.  565.  143.  462.  412.  442.  598.  390.\n",
      "  620.  616.  243.  190.  119.  288.  370.   55.  106.  114.  127.  146.\n",
      "   88.  442.  193.   76.  190.   86.  127.  225.   74.  220.  128.  380.\n",
      "  103.   65.  635.   90.   95.   73.   73.]\n",
      "the maximum number of a label in validation set is  676.0\n"
     ]
    }
   ],
   "source": [
    "#split training dato into training and validation set\n",
    "from sklearn.utils import shuffle\n",
    "ration_validation=0.3\n",
    "X_train_raw,y_train_raw = shuffle(X_train_raw, y_train_raw)\n",
    "\n",
    "n_validation=int(ration_validation*n_train_raw)\n",
    "n_train=n_train_raw-n_validation\n",
    "\n",
    "X_train_unjittered= X_train_raw[:n_train]\n",
    "y_train_unjittered= y_train_raw[:n_train]\n",
    "X_validation_unjittered = X_train_raw[n_train:]\n",
    "y_validation_unjittered = y_train_raw[n_train:]\n",
    "print(n_train,n_validation)\n",
    "print(X_train_unjittered.shape,y_train_unjittered.shape,X_validation_unjittered.shape,y_validation_unjittered.shape)\n",
    "\n",
    "num_train_classID=np.zeros(n_classes)\n",
    "num_validation_classID=np.zeros(n_classes)\n",
    "\n",
    "for i in range(n_train):\n",
    "    num_train_classID[y_train_unjittered[i]]+=1\n",
    "n_train_label_max=np.max(num_train_classID)\n",
    "print(num_train_classID)\n",
    "print(\"the maximum number of a label in training set is \",n_train_label_max)\n",
    "\n",
    "for i in range(n_validation):\n",
    "    num_validation_classID[y_validation_unjittered[i]]+=1\n",
    "n_validation_label_max=np.max(num_validation_classID)\n",
    "print(num_validation_classID)\n",
    "print(\"the maximum number of a label in validation set is \",n_validation_label_max)\n",
    "\n",
    "\n"
   ]
  },
  {
   "cell_type": "code",
   "execution_count": 7,
   "metadata": {
    "collapsed": false
   },
   "outputs": [
    {
     "name": "stdout",
     "output_type": "stream",
     "text": [
      "n_train 27447\n",
      "the jitter trainning data size is 68204\n",
      "the shape of final X_train ,y_train is (95651, 32, 32, 3) (95651,)\n",
      "the jitter trainning data size is 29573\n",
      "the shape of final X_validation ,y_validation is (41335, 32, 32, 3) (41335,)\n"
     ]
    },
    {
     "data": {
      "text/plain": [
       "\"\\nimage =imread()\\nplt.imshow(image);\\nplt.axis('off');\\nplt.show()\\ngs1 = gridspec.GridSpec(10, 10)\\ngs1.update(wspace=0.01, hspace=0.02) # set the spacing between axes. \\nplt.figure(figsize=(12,12))\\nfor i in range(100):\\n    ax1 = plt.subplot(gs1[i])\\n    ax1.set_xticklabels([])\\n    ax1.set_yticklabels([])\\n    ax1.set_aspect('equal')\\n    img = transform_image(image,20,10,5)\\n\\n    plt.subplot(10,10,i+1)\\n    plt.imshow(img)\\n    plt.axis('off')\\n\\nplt.show()\\n\""
      ]
     },
     "execution_count": 7,
     "metadata": {},
     "output_type": "execute_result"
    }
   ],
   "source": [
    "# generate jitter data ,making data balanceed\n",
    "X_train=[]\n",
    "y_train=[]\n",
    "X_validation=[]\n",
    "y_validation=[]\n",
    "n_times=1\n",
    "print(\"n_train\" ,n_train)\n",
    "for m in range(n_times):\n",
    "    for i in range(n_train):\n",
    "         for j in range(n_classes):\n",
    "            if y_train_unjittered[i]==j:\n",
    "                for k in range(int(round(n_train_label_max/num_train_classID[j]))):\n",
    "                    img = transform_image(X_train_unjittered[i],10,5,5)\n",
    "                    X_train.append(img)\n",
    "                    y_train.append(y_train_unjittered[i])\n",
    "print(\"the jitter trainning data size is\",len(X_train))\n",
    "for i in range(n_train):\n",
    "    X_train.append(X_train_unjittered[i])\n",
    "    y_train.append(y_train_unjittered[i])\n",
    "    \n",
    "X_train=np.array(X_train)\n",
    "y_train=np.array(y_train)\n",
    "n_train=len(X_train)\n",
    "print(\"the shape of final X_train ,y_train is\",X_train.shape,y_train.shape)\n",
    "\n",
    "      \n",
    "for m in range(n_times):\n",
    "    for i in range(n_validation):\n",
    "        for j in range(n_classes):\n",
    "            if y_validation_unjittered[i]==j:\n",
    "                for k in range(int(round(n_validation_label_max/num_validation_classID[j]))):\n",
    "                    img = transform_image(X_validation_unjittered[i],10,5,5)\n",
    "                    X_validation.append(img)\n",
    "                    y_validation.append(y_validation_unjittered[i])\n",
    "                    \n",
    "print(\"the jitter trainning data size is\",len(X_validation))\n",
    "for i in range(n_validation):                    \n",
    "    X_validation.append(X_validation_unjittered[i])\n",
    "    y_validation.append(y_validation_unjittered[i])\n",
    "\n",
    "X_validation=np.array(X_validation)\n",
    "y_validation=np.array(y_validation)\n",
    "n_validation=len(X_validation)\n",
    "\n",
    "\n",
    "print(\"the shape of final X_validation ,y_validation is\",X_validation.shape,y_validation.shape)\n",
    "\n",
    "X_train,y_train = shuffle(X_train, y_train)\n",
    "X_validation,y_validation = shuffle(X_validation, y_validation)\n",
    "\n",
    "\"\"\"\n",
    "n_validation=n_train_raw\n",
    "\n",
    "X_validation=X_train_raw\n",
    "y_validation=y_train_raw\n",
    "\n",
    "X_train=[]\n",
    "y_train=[]\n",
    "#for k in range(4):\n",
    "for i in range(len(y_train_raw)):\n",
    "    for j in range(n_classes):\n",
    "        if y_train_raw[i]==j:\n",
    "            for k in range(int(round(n_label_max/num_classID[j]))):\n",
    "                img = transform_image(image,10,5,2)\n",
    "                X_train.append(img)\n",
    "                y_train.append(y_train_raw[i])\n",
    "X_train=np.array(X_train)\n",
    "y_train=np.array(y_train)\n",
    "n_train=len(X_train)\n",
    "\n",
    "print(\"the shape of X_train y_train is\",X_train.shape,y_train.shape)\n",
    "\n",
    "        \n",
    "\"\"\"\n",
    "\n",
    "\n",
    "\"\"\"\n",
    "image =imread()\n",
    "plt.imshow(image);\n",
    "plt.axis('off');\n",
    "plt.show()\n",
    "gs1 = gridspec.GridSpec(10, 10)\n",
    "gs1.update(wspace=0.01, hspace=0.02) # set the spacing between axes. \n",
    "plt.figure(figsize=(12,12))\n",
    "for i in range(100):\n",
    "    ax1 = plt.subplot(gs1[i])\n",
    "    ax1.set_xticklabels([])\n",
    "    ax1.set_yticklabels([])\n",
    "    ax1.set_aspect('equal')\n",
    "    img = transform_image(image,20,10,5)\n",
    "\n",
    "    plt.subplot(10,10,i+1)\n",
    "    plt.imshow(img)\n",
    "    plt.axis('off')\n",
    "\n",
    "plt.show()\n",
    "\"\"\""
   ]
  },
  {
   "cell_type": "code",
   "execution_count": 8,
   "metadata": {
    "collapsed": false
   },
   "outputs": [
    {
     "name": "stdout",
     "output_type": "stream",
     "text": [
      "the shape of X_train_gray is  (95651, 32, 32, 1)\n",
      "the shape of X_validation_gray is  (41335, 32, 32, 1)\n",
      "the shape of X_test_gray is  (12630, 32, 32, 1)\n"
     ]
    }
   ],
   "source": [
    "#preprocessing the input data  :RGB to YUV  Gray Y = R*0.299 + G*0.587 + B*0.114\n",
    "def rgb2gray(rgb):\n",
    "    return np.dot(rgb[...,:3], [0.299, 0.587, 0.114])\n",
    "    \n",
    "#X_train_gray=np.array([n_train,32,32,1])\n",
    "#X_test_gray=np.array([n_test,32,32,1])\n",
    "\n",
    "X_train_gray=np.array(rgb2gray(X_train),dtype=np.float32).reshape((n_train,32,32,1))\n",
    "X_test_gray=np.array(rgb2gray(X_test),dtype=np.float32).reshape((n_test,32,32,1))\n",
    "X_validation_gray=np.array(rgb2gray(X_validation),dtype=np.float32).reshape((n_validation,32,32,1))\n",
    "\n",
    "print(\"the shape of X_train_gray is \",X_train_gray.shape)\n",
    "print(\"the shape of X_validation_gray is \",X_validation_gray.shape)\n",
    "print(\"the shape of X_test_gray is \",X_test_gray.shape)\n",
    "\n",
    "\n",
    "#print(\"y_test\",y_test)\n",
    "\n"
   ]
  },
  {
   "cell_type": "code",
   "execution_count": 9,
   "metadata": {
    "collapsed": false
   },
   "outputs": [
    {
     "name": "stdout",
     "output_type": "stream",
     "text": [
      "the shape of X_train_gray_normal is  (95651, 32, 32, 1)\n",
      "the shape of X_validation_gray_normal is  (41335, 32, 32, 1)\n",
      "the shape of X_test_gray_normal is  (12630, 32, 32, 1)\n"
     ]
    }
   ],
   "source": [
    "#data normalizing\n",
    "import tensorflow as tf\n",
    "\n",
    "def image_normalizing(data):\n",
    "    d=np.array(data)\n",
    "    shape=d.shape\n",
    "    d=d.reshape(d.size)\n",
    "    for i in range(d.size):\n",
    "        d[i]=np.float32((d[i]-128)/128)\n",
    "    return d.reshape(shape)\n",
    "\n",
    "X_train_gray_normal=image_normalizing(X_train_gray)\n",
    "X_test_gray_normal=image_normalizing(X_test_gray)\n",
    "X_validation_gray_normal=image_normalizing(X_validation_gray)\n",
    "\n",
    "print(\"the shape of X_train_gray_normal is \",X_train_gray_normal.shape)\n",
    "print(\"the shape of X_validation_gray_normal is \",X_validation_gray_normal.shape)\n",
    "print(\"the shape of X_test_gray_normal is \",X_test_gray_normal.shape)\n",
    "\n",
    "        \n",
    "#print(\"X_train_gray_normal\",X_train_gray_normal)  \n",
    "#print(\"one_hot_y_test\",one_hot_y_test)\n"
   ]
  },
  {
   "cell_type": "code",
   "execution_count": 10,
   "metadata": {
    "collapsed": false
   },
   "outputs": [],
   "source": [
    "# using the leNet structure fist\n",
    "\n",
    "\n",
    "from tensorflow.contrib.layers import flatten\n",
    "#shuffling the data pair\n",
    "X_train_gray_normal,y_train = shuffle(X_train_gray_normal, y_train)\n",
    "\n",
    "EPOCHS = 20\n",
    "BATCH_SIZE = 128\n",
    "#dropout_rate = 0.750\n",
    "\n",
    "def LeNet(x):    \n",
    "    # Hyperparameters\n",
    "    mu = 0\n",
    "    sigma = 0.1\n",
    "    \n",
    "    # SOLUTION: Layer 1: Convolutional. Input = 32x32x1. Output = 28x28x6.\n",
    "    conv1_W = tf.Variable(tf.truncated_normal(shape=(5, 5, 1, 6), mean = mu, stddev = sigma))\n",
    "    conv1_b = tf.Variable(tf.zeros(6))\n",
    "    conv1   = tf.nn.conv2d(x, conv1_W, strides=[1, 1, 1, 1], padding='VALID') + conv1_b\n",
    "\n",
    "    # SOLUTION: Activation.\n",
    "    conv1 = tf.nn.relu(conv1)\n",
    "\n",
    "    # SOLUTION: Pooling. Input = 28x28x6. Output = 14x14x6.\n",
    "    conv1 = tf.nn.max_pool(conv1, ksize=[1, 2, 2, 1], strides=[1, 2, 2, 1], padding='VALID')\n",
    "\n",
    "    # SOLUTION: Layer 2: Convolutional. Output = 10x10x16.\n",
    "    conv2_W = tf.Variable(tf.truncated_normal(shape=(5, 5, 6, 16), mean = mu, stddev = sigma))\n",
    "    conv2_b = tf.Variable(tf.zeros(16))\n",
    "    conv2   = tf.nn.conv2d(conv1, conv2_W, strides=[1, 1, 1, 1], padding='VALID') + conv2_b\n",
    "    \n",
    "    # SOLUTION: Activation.\n",
    "    conv2 = tf.nn.relu(conv2)\n",
    "\n",
    "    # SOLUTION: Pooling. Input = 10x10x16. Output = 5x5x16.\n",
    "    conv2 = tf.nn.max_pool(conv2, ksize=[1, 2, 2, 1], strides=[1, 2, 2, 1], padding='VALID')\n",
    "\n",
    "    # SOLUTION: Flatten. Input = 5x5x16. Output = 400.\n",
    "    fc0   = flatten(conv2)\n",
    "    \n",
    "    # SOLUTION: Layer 3: Fully Connected. Input = 400. Output = 120.\n",
    "    fc1_W = tf.Variable(tf.truncated_normal(shape=(400, 120), mean = mu, stddev = sigma))\n",
    "    fc1_b = tf.Variable(tf.zeros(120))\n",
    "    fc1   = tf.matmul(fc0, fc1_W) + fc1_b\n",
    "    \n",
    "    # SOLUTION: Activation.\n",
    "    fc1    = tf.nn.relu(fc1)\n",
    "\n",
    "    # SOLUTION: Layer 4: Fully Connected. Input = 120. Output = 84.\n",
    "    fc2_W  = tf.Variable(tf.truncated_normal(shape=(120, 84), mean = mu, stddev = sigma))\n",
    "    fc2_b  = tf.Variable(tf.zeros(84))\n",
    "    fc2    = tf.matmul(fc1, fc2_W) + fc2_b\n",
    "    \n",
    "    # SOLUTION: Activation.\n",
    "    fc2    = tf.nn.relu(fc2)\n",
    "\n",
    "    # SOLUTION: Layer 5: Fully Connected. Input = 84. Output =  n_classes,in this case equals 43\n",
    "    fc3_W  = tf.Variable(tf.truncated_normal(shape=(84,  n_classes), mean = mu, stddev = sigma))\n",
    "    fc3_b  = tf.Variable(tf.zeros( n_classes))\n",
    "    logits = tf.matmul(fc2, fc3_W) + fc3_b\n",
    "    \n",
    "    return logits\n",
    "\n",
    "\n",
    "def LeNetModify1(x):    \n",
    "    # Hyperparameters\n",
    "    mu = 0\n",
    "    sigma = 0.1\n",
    "    \n",
    "    # SOLUTION: Layer 1: Convolutional. Input = 32x32x1. Output = 28x28x16.\n",
    "    conv1_W = tf.Variable(tf.truncated_normal(shape=(5, 5, 1, 16), mean = mu, stddev = sigma))\n",
    "    conv1_b = tf.Variable(tf.zeros(16))\n",
    "    conv1   = tf.nn.conv2d(x, conv1_W, strides=[1, 1, 1, 1], padding='VALID') + conv1_b\n",
    "\n",
    "    # SOLUTION: Activation.\n",
    "    conv1 = tf.nn.relu(conv1)\n",
    "\n",
    "    # SOLUTION: Pooling. Input = 28x28x16. Output = 14x14x16.\n",
    "    conv1 = tf.nn.max_pool(conv1, ksize=[1, 2, 2, 1], strides=[1, 2, 2, 1], padding='VALID')\n",
    "\n",
    "    # SOLUTION: Layer 2: Convolutional. Output = 10x10x32.\n",
    "    conv2_W = tf.Variable(tf.truncated_normal(shape=(5, 5, 16, 32), mean = mu, stddev = sigma))\n",
    "    conv2_b = tf.Variable(tf.zeros(32))\n",
    "    conv2   = tf.nn.conv2d(conv1, conv2_W, strides=[1, 1, 1, 1], padding='VALID') + conv2_b\n",
    "    \n",
    "    # SOLUTION: Activation.\n",
    "    conv2 = tf.nn.relu(conv2)\n",
    "\n",
    "    # SOLUTION: Pooling. Input = 10x10x32. Output = 5x5x32.\n",
    "    conv2 = tf.nn.max_pool(conv2, ksize=[1, 2, 2, 1], strides=[1, 2, 2, 1], padding='VALID')\n",
    "\n",
    "    # SOLUTION: Flatten. Input = 5x5x32. Output = 800.\n",
    "    fc0   = flatten(conv2)\n",
    "    \n",
    "    # SOLUTION: Layer 3: Fully Connected. Input = 800. Output = 256.\n",
    "    fc1_W = tf.Variable(tf.truncated_normal(shape=(800, 256), mean = mu, stddev = sigma))\n",
    "    fc1_b = tf.Variable(tf.zeros(256))\n",
    "    fc1   = tf.matmul(fc0, fc1_W) + fc1_b\n",
    "    \n",
    "    # SOLUTION: Activation.\n",
    "    fc1    = tf.nn.relu(fc1)\n",
    "\n",
    "    # SOLUTION: Layer 4: Fully Connected. Input = 256. Output = 128.\n",
    "    fc2_W  = tf.Variable(tf.truncated_normal(shape=(256, 128), mean = mu, stddev = sigma))\n",
    "    fc2_b  = tf.Variable(tf.zeros(128))\n",
    "    fc2    = tf.matmul(fc1, fc2_W) + fc2_b\n",
    "    \n",
    "    # SOLUTION: Activation.\n",
    "    fc2    = tf.nn.relu(fc2)\n",
    "\n",
    "    # SOLUTION: Layer 5: Fully Connected. Input = 128. Output =  n_classes,in this case equals 43\n",
    "    fc3_W  = tf.Variable(tf.truncated_normal(shape=(128,  n_classes), mean = mu, stddev = sigma))\n",
    "    fc3_b  = tf.Variable(tf.zeros( n_classes))\n",
    "    logits = tf.matmul(fc2, fc3_W) + fc3_b\n",
    "    \n",
    "    return logits\n",
    "\n",
    "\n"
   ]
  },
  {
   "cell_type": "code",
   "execution_count": 11,
   "metadata": {
    "collapsed": false
   },
   "outputs": [],
   "source": [
    "# training pipeline\n",
    "\n",
    "x = tf.placeholder(tf.float32, (None, 32, 32,1))\n",
    "y = tf.placeholder(tf.int32, (None))\n",
    "one_hot_y = tf.one_hot(y, n_classes)\n",
    "\n",
    "rate = 0.001\n",
    "#logits=LeNet(x)\n",
    "logits = LeNetModify1(x)\n",
    "cross_entropy = tf.nn.softmax_cross_entropy_with_logits(logits, one_hot_y)\n",
    "loss_operation = tf.reduce_mean(cross_entropy)\n",
    "optimizer = tf.train.AdamOptimizer(learning_rate = rate)\n",
    "training_operation = optimizer.minimize(loss_operation)\n"
   ]
  },
  {
   "cell_type": "code",
   "execution_count": 12,
   "metadata": {
    "collapsed": false
   },
   "outputs": [],
   "source": [
    "#evaluating function\n",
    "\n",
    "correct_prediction = tf.equal(tf.argmax(logits, 1), tf.argmax(one_hot_y, 1))\n",
    "accuracy_operation = tf.reduce_mean(tf.cast(correct_prediction, tf.float32))\n",
    "\n",
    "def evaluate(X_data, y_data):\n",
    "    num_examples = len(X_data)\n",
    "    total_accuracy = 0\n",
    "    sess = tf.get_default_session()\n",
    "    for offset in range(0, num_examples, BATCH_SIZE):\n",
    "        batch_x, batch_y = X_data[offset:offset+BATCH_SIZE], y_data[offset:offset+BATCH_SIZE]\n",
    "        accuracy = sess.run(accuracy_operation, feed_dict={x: batch_x, y: batch_y})\n",
    "        total_accuracy += (accuracy * len(batch_x))\n",
    "    return total_accuracy / num_examples"
   ]
  },
  {
   "cell_type": "code",
   "execution_count": 13,
   "metadata": {
    "collapsed": false
   },
   "outputs": [
    {
     "name": "stdout",
     "output_type": "stream",
     "text": [
      "WARNING:tensorflow:From <ipython-input-13-d13e2c41a677>:5 in <module>.: initialize_all_variables (from tensorflow.python.ops.variables) is deprecated and will be removed after 2017-03-02.\n",
      "Instructions for updating:\n",
      "Use `tf.global_variables_initializer` instead.\n",
      "Training...\n",
      "\n",
      "EPOCH 1 ...\n",
      "Validation Accuracy = 0.831\n",
      "\n",
      "EPOCH 2 ...\n",
      "Validation Accuracy = 0.898\n",
      "\n",
      "EPOCH 3 ...\n",
      "Validation Accuracy = 0.929\n",
      "\n",
      "EPOCH 4 ...\n",
      "Validation Accuracy = 0.948\n",
      "\n",
      "EPOCH 5 ...\n",
      "Validation Accuracy = 0.943\n",
      "\n",
      "EPOCH 6 ...\n",
      "Validation Accuracy = 0.951\n",
      "\n",
      "EPOCH 7 ...\n",
      "Validation Accuracy = 0.956\n",
      "\n",
      "EPOCH 8 ...\n",
      "Validation Accuracy = 0.957\n",
      "\n",
      "EPOCH 9 ...\n",
      "Validation Accuracy = 0.962\n",
      "\n",
      "EPOCH 10 ...\n",
      "Validation Accuracy = 0.961\n",
      "\n",
      "EPOCH 11 ...\n",
      "Validation Accuracy = 0.957\n",
      "\n",
      "EPOCH 12 ...\n",
      "Validation Accuracy = 0.964\n",
      "\n",
      "EPOCH 13 ...\n",
      "Validation Accuracy = 0.961\n",
      "\n",
      "EPOCH 14 ...\n",
      "Validation Accuracy = 0.962\n",
      "\n",
      "EPOCH 15 ...\n",
      "Validation Accuracy = 0.968\n",
      "\n",
      "EPOCH 16 ...\n",
      "Validation Accuracy = 0.966\n",
      "\n",
      "EPOCH 17 ...\n",
      "Validation Accuracy = 0.965\n",
      "\n",
      "EPOCH 18 ...\n",
      "Validation Accuracy = 0.961\n",
      "\n",
      "EPOCH 19 ...\n",
      "Validation Accuracy = 0.967\n",
      "\n",
      "EPOCH 20 ...\n",
      "Validation Accuracy = 0.967\n",
      "\n",
      "Test Accuracy = 0.943\n",
      "./test.ckpt\n",
      "Model saved\n"
     ]
    }
   ],
   "source": [
    "# model training\n",
    "save_file='./test.ckpt'\n",
    "\n",
    "with tf.Session() as sess:\n",
    "    sess.run(tf.initialize_all_variables())\n",
    "    num_examples = len(X_train_gray_normal)\n",
    "    \n",
    "    print(\"Training...\")\n",
    "    print()\n",
    "    for i in range(EPOCHS):\n",
    "        X_train_gray_normal, y_train = shuffle(X_train_gray_normal, y_train)\n",
    "        #print(\"X_train_gray_normal.shape\",X_train_gray_normal.shape)\n",
    "        for offset in range(0, num_examples, BATCH_SIZE):\n",
    "            end = offset + BATCH_SIZE\n",
    "            batch_x, batch_y = X_train_gray_normal[offset:end], y_train[offset:end]\n",
    "            sess.run(training_operation, feed_dict={x: batch_x, y: batch_y})\n",
    "            \n",
    "        validation_accuracy = evaluate(X_validation_gray_normal, y_validation)\n",
    "        print(\"EPOCH {} ...\".format(i+1))\n",
    "        print(\"Validation Accuracy = {:.3f}\".format(validation_accuracy))\n",
    "        print()\n",
    "    \n",
    "    # try test dat accuray\n",
    "    test_accuracy = evaluate(X_test_gray_normal, y_test)\n",
    "    print(\"Test Accuracy = {:.3f}\".format(test_accuracy))\n",
    "        \n",
    "    try:\n",
    "        saver\n",
    "    except NameError:\n",
    "        saver = tf.train.Saver()\n",
    "    print(saver.save(sess,save_file))\n",
    "    print(\"Model saved\")"
   ]
  },
  {
   "cell_type": "code",
   "execution_count": 14,
   "metadata": {
    "collapsed": false
   },
   "outputs": [
    {
     "name": "stdout",
     "output_type": "stream",
     "text": [
      "./test.ckpt\n",
      "None\n",
      "Test Accuracy = 0.943\n",
      "['1.jpg', '13.jpg', '14.jpg', '15.jpg', '17.jpg', '18.jpg', '21.jpg', '26.jpg', '27.jpg', '31.jpg', '35.jpg']\n",
      "web_images Test Accuracy = 0.943\n"
     ]
    }
   ],
   "source": [
    "# evalute the model\n",
    "import os\n",
    "import matplotlib.pyplot as plt\n",
    "import matplotlib.image as mpimg\n",
    "%matplotlib inline\n",
    "\n",
    "saver = tf.train.Saver()\n",
    "with tf.Session() as sess:\n",
    "    #ckpt = tf.train.get_checkpoint_state(\"./\")\n",
    "    #if ckpt and ckpt.model_checkpoint_path:\n",
    "        #print(\"Continue training from the model {}\".format(ckpt.model_checkpoint_path))\n",
    "        #print(saver)\n",
    "        #print(saver.restore(sess, ckpt.model_checkpoint_path))\n",
    "    #ckpt = tf.train.import_meta_graph('model.ckpt.meta')\n",
    "    #ckpt.restore(sess, './model.ckpt')\n",
    "    print(save_file)\n",
    "    print(saver.restore(sess,save_file))\n",
    "   \n",
    "    #saver.restore(sess,save_file)\n",
    "    #loader.restore(sess, tf.train.latest_checkpoint('./'))\n",
    "\n",
    "    test_accuracy = evaluate(X_test_gray_normal, y_test)\n",
    "    #print(test_accuracy.eval(session=sess))\n",
    "    print(\"Test Accuracy = {:.3f}\".format(test_accuracy))\n",
    "    \n",
    "\n",
    "\n",
    "    file_path=\"./download signs/\"\n",
    "    file_list=os.listdir(file_path)\n",
    "    print(file_list)\n",
    "    web_images=[]\n",
    "    web_labels=[1,13,14,15,17,18,21,26,27,31,35]\n",
    "    for i in range(len(file_list)):\n",
    "        image = mpimg.imread(file_path+file_list[i])\n",
    "        image=cv2.resize(image, (32, 32))\n",
    "        web_images.append(image)\n",
    "    web_images=np.array(web_images)\n",
    "    web_images_gray=np.array(rgb2gray(web_images),dtype=np.float32).reshape((len(web_images),32,32,1))\n",
    "    web_images_gray_normal=image_normalizing(web_images_gray)\n",
    "\n",
    "    web_images_test_accuracy = evaluate(web_images_gray_normal, web_labels)\n",
    "    print(\"web_images Test Accuracy = {:.3f}\".format(test_accuracy))"
   ]
  },
  {
   "cell_type": "markdown",
   "metadata": {},
   "source": [
    "### Question 1 \n",
    "\n",
    "_Describe how you preprocessed the data. Why did you choose that technique?_"
   ]
  },
  {
   "cell_type": "markdown",
   "metadata": {},
   "source": [
    "**Answer:**"
   ]
  },
  {
   "cell_type": "markdown",
   "metadata": {
    "collapsed": true
   },
   "source": [
    "### Generate data additional data (OPTIONAL!)\n",
    "### and split the data into training/validation/testing sets here.\n",
    "### Feel free to use as many code cells as needed.\n",
    "first ,i split the data into trainding data/validation data with a ratio of 27447/ 11762, with same model, it can reach 94% accurate rate at maximum.\n",
    "second, i seperately generate the jittered training data and valdation data for previous splitted trainding data and validation data with a ratio of 96741/30260 ,then the accurate rise up \n",
    "besides,for both raw data and jittered data ,i convert all the data from rgb to y channel of yuv, and then normalizing them\n"
   ]
  },
  {
   "cell_type": "markdown",
   "metadata": {
    "collapsed": true
   },
   "source": [
    "#split training dato into training and validation set\n",
    "from sklearn.utils import shuffle\n",
    "\n",
    "X_train_raw,y_train_raw = shuffle(X_train_raw, y_train_raw)\n",
    "\n",
    "n_validation=int(0.3*n_train_raw)\n",
    "n_train=n_train_raw-n_validation\n",
    "\n",
    "X_train_unjittered= X_train_raw[:n_train]\n",
    "y_train_unjittered= y_train_raw[:n_train]\n",
    "X_validation_unjittered = X_train_raw[n_train:]\n",
    "y_validation_unjittered = y_train_raw[n_train:]"
   ]
  },
  {
   "cell_type": "markdown",
   "metadata": {
    "collapsed": true
   },
   "source": [
    "# generate jitter data ,making data balanceed\n",
    "X_train=[]\n",
    "y_train=[]\n",
    "X_validation=[]\n",
    "y_validation=[]\n",
    "n_times=1\n",
    "print(\"n_train\" ,n_train)\n",
    "for m in range(n_times):\n",
    "    for i in range(n_train):\n",
    "         for j in range(n_classes):\n",
    "            if y_train_unjittered[i]==j:\n",
    "                for k in range(int(round(n_train_label_max/num_train_classID[j]))):\n",
    "                    img = transform_image(X_train_unjittered[i],10,5,5)\n",
    "                    X_train.append(img)\n",
    "                    y_train.append(y_train_unjittered[i])\n",
    "print(\"the jitter trainning data size is\",len(X_train))\n",
    "for i in range(n_train):\n",
    "    X_train.append(X_train_unjittered[i])\n",
    "    y_train.append(y_train_unjittered[i])\n",
    "    \n",
    "X_train=np.array(X_train)\n",
    "y_train=np.array(y_train)\n",
    "n_train=len(X_train)\n",
    "print(\"the shape of final X_train ,y_train is\",X_train.shape,y_train.shape)\n",
    "\n",
    "      \n",
    "for m in range(n_times):\n",
    "    for i in range(n_validation):\n",
    "        for j in range(n_classes):\n",
    "            if y_validation_unjittered[i]==j:\n",
    "                for k in range(int(round(n_validation_label_max/num_validation_classID[j]))):\n",
    "                    img = transform_image(X_validation_unjittered[i],10,5,5)\n",
    "                    X_validation.append(img)\n",
    "                    y_validation.append(y_validation_unjittered[i])\n",
    "                    \n",
    "print(\"the jitter trainning data size is\",len(X_validation))\n",
    "for i in range(n_validation):                    \n",
    "    X_validation.append(X_validation_unjittered[i])\n",
    "    y_validation.append(y_validation_unjittered[i])\n",
    "\n",
    "X_validation=np.array(X_validation)\n",
    "y_validation=np.array(y_validation)\n",
    "n_validation=len(X_validation)\n",
    "\n",
    "\n",
    "print(\"the shape of final X_validation ,y_validation is\",X_validation.shape,y_validation.shape)\n",
    "\n",
    "X_train,y_train = shuffle(X_train, y_train)\n",
    "X_validation,y_validation = shuffle(X_validation, y_validation)"
   ]
  },
  {
   "cell_type": "markdown",
   "metadata": {
    "collapsed": true
   },
   "source": [
    "#preprocessing the input data  :RGB to YUV  Gray Y = R*0.299 + G*0.587 + B*0.114\n",
    "def rgb2gray(rgb):\n",
    "    return np.dot(rgb[...,:3], [0.299, 0.587, 0.114])\n",
    "    \n",
    "#X_train_gray=np.array([n_train,32,32,1])\n",
    "#X_test_gray=np.array([n_test,32,32,1])\n",
    "\n",
    "X_train_gray=np.array(rgb2gray(X_train),dtype=np.float32).reshape((n_train,32,32,1))\n",
    "X_test_gray=np.array(rgb2gray(X_test),dtype=np.float32).reshape((n_test,32,32,1))\n",
    "X_validation_gray=np.array(rgb2gray(X_validation),dtype=np.float32).reshape((n_validation,32,32,1))"
   ]
  },
  {
   "cell_type": "markdown",
   "metadata": {
    "collapsed": true
   },
   "source": [
    "#data normalizing\n",
    "import tensorflow as tf\n",
    "\n",
    "def image_normalizing(data):\n",
    "    d=np.array(data)\n",
    "    shape=d.shape\n",
    "    d=d.reshape(d.size)\n",
    "    for i in range(d.size):\n",
    "        d[i]=np.float32((d[i]-128)/128)\n",
    "    return d.reshape(shape)\n",
    "\n",
    "X_train_gray_normal=image_normalizing(X_train_gray)\n",
    "X_test_gray_normal=image_normalizing(X_test_gray)\n",
    "X_validation_gray_normal=image_normalizing(X_validation_gray)"
   ]
  },
  {
   "cell_type": "markdown",
   "metadata": {},
   "source": [
    "### Question 2\n",
    "\n",
    "_Describe how you set up the training, validation and testing data for your model. **Optional**: If you generated additional data, how did you generate the data? Why did you generate the data? What are the differences in the new dataset (with generated data) from the original dataset?_"
   ]
  },
  {
   "cell_type": "markdown",
   "metadata": {},
   "source": [
    "**Answer:**"
   ]
  },
  {
   "cell_type": "markdown",
   "metadata": {
    "collapsed": true
   },
   "source": [
    "### Define your architecture here.\n",
    "### Feel free to use as many code cells as needed.\n",
    "i keep the testing data untouched ,just the same as the input test data.\n",
    "and seperate the original training data into two part ,the training data with jittered traing data, the validation data with jittered validation data,\n",
    "besides  with jittered data ,i balance the data samples for each traffic sign label avoiding from the tendency model by the unbalanced data imput.\n",
    "in order to make the model more robust, i refer to thejitter generating function implemented  by Vivek Yadav which can ramdomly rotate,shear,translation transform the input data\n",
    "\n",
    "with the generated data ,the training data become larger and more random jittered whichi tend to output a more robutst model.\n"
   ]
  },
  {
   "cell_type": "markdown",
   "metadata": {},
   "source": [
    "### Question 3\n",
    "\n",
    "_What does your final architecture look like? (Type of model, layers, sizes, connectivity, etc.)  For reference on how to build a deep neural network using TensorFlow, see [Deep Neural Network in TensorFlow\n",
    "](https://classroom.udacity.com/nanodegrees/nd013/parts/fbf77062-5703-404e-b60c-95b78b2f3f9e/modules/6df7ae49-c61c-4bb2-a23e-6527e69209ec/lessons/b516a270-8600-4f93-a0a3-20dfeabe5da6/concepts/83a3a2a2-a9bd-4b7b-95b0-eb924ab14432) from the classroom._\n"
   ]
  },
  {
   "cell_type": "markdown",
   "metadata": {},
   "source": [
    "**Answer:**"
   ]
  },
  {
   "cell_type": "markdown",
   "metadata": {
    "collapsed": true
   },
   "source": [
    "### the model final.\n",
    "### Feel free to use as many code cells as needed.\n",
    "first,i use a simple linear regression structure whichi yield not good accurate.\n",
    "then i choose a lenet model ,it turns better.\n",
    "and finaly i choose a modified lenet model,whichi shows a satisfied result.\n",
    "\n",
    "the architeture is below:\n",
    "first: Layer 1: Convolutional. Input = 32x32x1. Output = 28x28x16. with a 16 channels different 5x5x1 filters\n",
    "followed by a relu activation \n",
    "then resampling by a max pooling with a [1,2,2,1]stride which output  14x14x16.\n",
    "secondly,Layer 2: Convolutional. Output = 10x10x32. with a 32 channels different 5x5x1 filters\n",
    "follows by another relu activation\n",
    "and then another max pooling with a [1,2,2,1]stride which output  5x5x32..\n",
    "thirdly ,the flatten layer with an output of 800 nodes\n",
    "fouthly,fully Connected layer of linear regression. with Input = 800. Output = 256.\n",
    "followed by another relu activation\n",
    "fifthly,Fully Connected layer. Input = 256. Output = 128.\n",
    "followed by another relu activation\n",
    "finally,Fully Connected output layer. Input = 128. Output =  43\n"
   ]
  },
  {
   "cell_type": "markdown",
   "metadata": {
    "collapsed": true
   },
   "source": [
    "def LeNetModify1(x):    \n",
    "    # Hyperparameters\n",
    "    mu = 0\n",
    "    sigma = 0.1\n",
    "    \n",
    "    # SOLUTION: Layer 1: Convolutional. Input = 32x32x1. Output = 28x28x16.\n",
    "    conv1_W = tf.Variable(tf.truncated_normal(shape=(5, 5, 1, 16), mean = mu, stddev = sigma))\n",
    "    conv1_b = tf.Variable(tf.zeros(16))\n",
    "    conv1   = tf.nn.conv2d(x, conv1_W, strides=[1, 1, 1, 1], padding='VALID') + conv1_b\n",
    "\n",
    "    # SOLUTION: Activation.\n",
    "    conv1 = tf.nn.relu(conv1)\n",
    "\n",
    "    # SOLUTION: Pooling. Input = 28x28x16. Output = 14x14x16.\n",
    "    conv1 = tf.nn.max_pool(conv1, ksize=[1, 2, 2, 1], strides=[1, 2, 2, 1], padding='VALID')\n",
    "\n",
    "    # SOLUTION: Layer 2: Convolutional. Output = 10x10x32.\n",
    "    conv2_W = tf.Variable(tf.truncated_normal(shape=(5, 5, 16, 32), mean = mu, stddev = sigma))\n",
    "    conv2_b = tf.Variable(tf.zeros(32))\n",
    "    conv2   = tf.nn.conv2d(conv1, conv2_W, strides=[1, 1, 1, 1], padding='VALID') + conv2_b\n",
    "    \n",
    "    # SOLUTION: Activation.\n",
    "    conv2 = tf.nn.relu(conv2)\n",
    "\n",
    "    # SOLUTION: Pooling. Input = 10x10x32. Output = 5x5x32.\n",
    "    conv2 = tf.nn.max_pool(conv2, ksize=[1, 2, 2, 1], strides=[1, 2, 2, 1], padding='VALID')\n",
    "\n",
    "    # SOLUTION: Flatten. Input = 5x5x32. Output = 800.\n",
    "    fc0   = flatten(conv2)\n",
    "    \n",
    "    # SOLUTION: Layer 3: Fully Connected. Input = 800. Output = 256.\n",
    "    fc1_W = tf.Variable(tf.truncated_normal(shape=(800, 256), mean = mu, stddev = sigma))\n",
    "    fc1_b = tf.Variable(tf.zeros(256))\n",
    "    fc1   = tf.matmul(fc0, fc1_W) + fc1_b\n",
    "    \n",
    "    # SOLUTION: Activation.\n",
    "    fc1    = tf.nn.relu(fc1)\n",
    "\n",
    "    # SOLUTION: Layer 4: Fully Connected. Input = 256. Output = 128.\n",
    "    fc2_W  = tf.Variable(tf.truncated_normal(shape=(256, 128), mean = mu, stddev = sigma))\n",
    "    fc2_b  = tf.Variable(tf.zeros(128))\n",
    "    fc2    = tf.matmul(fc1, fc2_W) + fc2_b\n",
    "    \n",
    "    # SOLUTION: Activation.\n",
    "    fc2    = tf.nn.relu(fc2)\n",
    "\n",
    "    # SOLUTION: Layer 5: Fully Connected. Input = 128. Output =  n_classes,in this case equals 43\n",
    "    fc3_W  = tf.Variable(tf.truncated_normal(shape=(128,  n_classes), mean = mu, stddev = sigma))\n",
    "    fc3_b  = tf.Variable(tf.zeros( n_classes))\n",
    "    logits = tf.matmul(fc2, fc3_W) + fc3_b\n",
    "    \n",
    "    return logits\n"
   ]
  },
  {
   "cell_type": "markdown",
   "metadata": {},
   "source": [
    "### Question 4\n",
    "\n",
    "_How did you train your model? (Type of optimizer, batch size, epochs, hyperparameters, etc.)_\n"
   ]
  },
  {
   "cell_type": "markdown",
   "metadata": {},
   "source": [
    "**Answer:**"
   ]
  },
  {
   "cell_type": "markdown",
   "metadata": {
    "collapsed": true
   },
   "source": [
    "i use the  tf.train.AdamOptimizer wih the hyperparameters as belows:\n",
    "    learning rate = 0.001\n",
    "    batch size=128\n",
    "    epochs=200\n",
    "    ration_validation=0.3\n",
    "    mu=0\n",
    "    sigma=0.1\n",
    "    transform_image(image,ang_range=10,shear_range=5,trans_range=5)\n",
    "    \n",
    "    \n",
    "    \n",
    "    \n"
   ]
  },
  {
   "cell_type": "markdown",
   "metadata": {},
   "source": [
    "### Question 5\n",
    "\n",
    "\n",
    "_What approach did you take in coming up with a solution to this problem? It may have been a process of trial and error, in which case, outline the steps you took to get to the final solution and why you chose those steps. Perhaps your solution involved an already well known implementation or architecture. In this case, discuss why you think this is suitable for the current problem._"
   ]
  },
  {
   "cell_type": "markdown",
   "metadata": {},
   "source": [
    "**Answer:**"
   ]
  },
  {
   "cell_type": "markdown",
   "metadata": {
    "collapsed": true
   },
   "source": [
    "first,,i use a simple linear regression structure whichi yield not good accurate.\n",
    "then i choose a lenet model because i think that the conv net is effective in processing image inputs.and i got an accuracy about 89%\n",
    "then i try a wider modified lenet model,whichi shows a satisfied result of 94%\n",
    "and i come back to add more generating data to see how much it can improve the accuracy,\n",
    "and i found it takes more computing time,first i set epoches to 30 ,which i can see the model is not converged in the last epoque,\n",
    "so i set epoches to 200 ,which i can see the model is converged.\n",
    "and i try to update the batch size to 256 to make it run faster, but it cosumes more memory which my computer cann't afford.\n",
    "so i finally choose  the batch size 128'"
   ]
  },
  {
   "cell_type": "markdown",
   "metadata": {},
   "source": [
    "---\n",
    "\n",
    "## Step 3: Test a Model on New Images\n",
    "\n",
    "Take several pictures of traffic signs that you find on the web or around you (at least five), and run them through your classifier on your computer to produce example results. The classifier might not recognize some local signs but it could prove interesting nonetheless.\n",
    "\n",
    "You may find `signnames.csv` useful as it contains mappings from the class id (integer) to the actual sign name."
   ]
  },
  {
   "cell_type": "markdown",
   "metadata": {},
   "source": [
    "### Implementation\n",
    "\n",
    "Use the code cell (or multiple code cells, if necessary) to implement the first step of your project. Once you have completed your implementation and are satisfied with the results, be sure to thoroughly answer the questions that follow."
   ]
  },
  {
   "cell_type": "code",
   "execution_count": 15,
   "metadata": {
    "collapsed": false
   },
   "outputs": [
    {
     "name": "stdout",
     "output_type": "stream",
     "text": [
      "['1.jpg', '13.jpg', '14.jpg', '15.jpg', '17.jpg', '18.jpg', '21.jpg', '26.jpg', '27.jpg', '31.jpg', '35.jpg']\n",
      "None\n",
      "Test Accuracy = 0.943\n"
     ]
    }
   ],
   "source": [
    "import os\n",
    "import matplotlib.pyplot as plt\n",
    "import matplotlib.image as mpimg\n",
    "%matplotlib inline\n",
    "file_path=\"./download signs/\"\n",
    "file_list=os.listdir(file_path)\n",
    "print(file_list)\n",
    "web_images=[]\n",
    "web_labels=[1,13,14,15,17,18,21,26,27,31,35]\n",
    "for i in range(len(file_list)):\n",
    "    image = mpimg.imread(file_path+file_list[i])\n",
    "    image=cv2.resize(image, (32, 32))\n",
    "    web_images.append(image)\n",
    "web_images=np.array(web_images)\n",
    "web_images_gray=np.array(rgb2gray(web_images),dtype=np.float32).reshape((len(web_images),32,32,1))\n",
    "web_images_gray_normal=image_normalizing(web_images_gray)\n",
    "#web_labels=np.array(web_labels).astype(int)\n",
    "\n",
    "with tf.Session() as sess:\n",
    "    #sess.run(tf.initialize_all_variables())\n",
    "    #ckpt = tf.train.get_checkpoint_state(\"./\")\n",
    "    #if ckpt and ckpt.model_checkpoint_path:\n",
    "        #print(\"Continue training from the model {}\".format(ckpt.model_checkpoint_path))\n",
    "        #print(saver)\n",
    "        #print(saver.restore(sess, ckpt.model_checkpoint_path))\n",
    "    #ckpt = tf.train.import_meta_graph('model.ckpt.meta')\n",
    "    #ckpt.restore(sess, './model.ckpt')\n",
    "    print(saver.restore(sess,save_file))\n",
    "    web_images_test_accuracy = evaluate(web_images_gray_normal, web_labels)\n",
    "    print(\"Test Accuracy = {:.3f}\".format(test_accuracy))\n"
   ]
  },
  {
   "cell_type": "markdown",
   "metadata": {},
   "source": [
    "### Question 6\n",
    "\n",
    "_Choose five candidate images of traffic signs and provide them in the report. Are there any particular qualities of the image(s) that might make classification difficult? It could be helpful to plot the images in the notebook._\n",
    "\n"
   ]
  },
  {
   "cell_type": "markdown",
   "metadata": {},
   "source": [
    "**Answer:**"
   ]
  },
  {
   "cell_type": "code",
   "execution_count": 16,
   "metadata": {
    "collapsed": false
   },
   "outputs": [
    {
     "name": "stdout",
     "output_type": "stream",
     "text": [
      "['1.jpg', '13.jpg', '14.jpg', '15.jpg', '17.jpg', '18.jpg', '21.jpg', '26.jpg', '27.jpg', '31.jpg', '35.jpg']\n",
      "WARNING:tensorflow:From <ipython-input-16-6061c313a80e>:59 in <module>.: initialize_all_variables (from tensorflow.python.ops.variables) is deprecated and will be removed after 2017-03-02.\n",
      "Instructions for updating:\n",
      "Use `tf.global_variables_initializer` instead.\n",
      "Continue training from the model ./test.ckpt\n",
      "web image labels are [1, 13, 14, 15, 17, 18, 21, 26, 27, 31, 35]\n",
      "predictions are [18 29 39 29 29 29  7 29 29 31 29]\n",
      " probabilities are [[ 0.0024368   0.01925168  0.00618218  0.03171076  0.00794245  0.03217718\n",
      "   0.00683297  0.04502025  0.00278832  0.01291261  0.00079837  0.00348673\n",
      "   0.04904319  0.02139265  0.00258269  0.06415305  0.00503359  0.00916875\n",
      "   0.11309571  0.0155132   0.01005619  0.03215081  0.03423888  0.00797665\n",
      "   0.00270976  0.05786309  0.00848187  0.01673707  0.00324303  0.0968141\n",
      "   0.03390777  0.08041748  0.00118962  0.00299913  0.00675579  0.0091608\n",
      "   0.00621937  0.01216473  0.02578695  0.07061362  0.00940812  0.00886541\n",
      "   0.01071674]\n",
      " [ 0.00667575  0.03094308  0.00231487  0.02090208  0.00814434  0.03205454\n",
      "   0.00650134  0.06018676  0.00121694  0.01499848  0.00100232  0.00486824\n",
      "   0.04415649  0.03136239  0.00254054  0.06626485  0.00493137  0.01124009\n",
      "   0.07277133  0.00955173  0.00751259  0.02616366  0.03147412  0.0062663\n",
      "   0.00462895  0.07552619  0.01815453  0.0125325   0.00465302  0.10359158\n",
      "   0.02951464  0.06852883  0.00199294  0.00461973  0.01010351  0.01218367\n",
      "   0.00445739  0.01992064  0.03583661  0.05770015  0.01546178  0.00660683\n",
      "   0.00994228]\n",
      " [ 0.0019981   0.02648496  0.01046101  0.02233637  0.01006414  0.03331848\n",
      "   0.01195097  0.05732956  0.00532783  0.00923174  0.00359713  0.00472697\n",
      "   0.06802694  0.01912085  0.00288175  0.04295848  0.00909774  0.01247764\n",
      "   0.08017366  0.01248049  0.01074598  0.01461966  0.02782871  0.00883366\n",
      "   0.00398482  0.08018047  0.01640668  0.02030118  0.00217687  0.06551289\n",
      "   0.03004827  0.05496044  0.0033356   0.00392392  0.00678698  0.00988224\n",
      "   0.01066583  0.01034622  0.04136246  0.08460754  0.01798422  0.01451018\n",
      "   0.01695029]\n",
      " [ 0.00393061  0.03922804  0.00527242  0.01214547  0.01569342  0.029604\n",
      "   0.01658296  0.05314424  0.00474287  0.02310548  0.00327571  0.00989186\n",
      "   0.04049782  0.02499902  0.00231284  0.04504563  0.00815889  0.03309674\n",
      "   0.04541132  0.01463334  0.00442634  0.01765857  0.05203114  0.00420666\n",
      "   0.01122444  0.02107526  0.03125013  0.02099537  0.00457799  0.13568844\n",
      "   0.01879594  0.01951343  0.00572898  0.00307419  0.01063207  0.01479708\n",
      "   0.00749835  0.02990816  0.06281704  0.06367744  0.01412689  0.00757153\n",
      "   0.00795182]\n",
      " [ 0.00908994  0.01812435  0.01436727  0.02357486  0.01829307  0.03131747\n",
      "   0.01847102  0.06718504  0.01013459  0.02096251  0.00564225  0.01227276\n",
      "   0.04308499  0.02733986  0.00420029  0.0372807   0.01111607  0.02093936\n",
      "   0.04811524  0.01885401  0.01153875  0.0220512   0.02221346  0.00967665\n",
      "   0.00718431  0.03088276  0.02068738  0.02472775  0.00785896  0.07249242\n",
      "   0.03725292  0.04857328  0.00585112  0.00686416  0.0127548   0.01966292\n",
      "   0.01431314  0.02402451  0.03116012  0.04403731  0.02275575  0.02161434\n",
      "   0.02145632]\n",
      " [ 0.00289791  0.01983963  0.00236409  0.01528374  0.01324431  0.01086635\n",
      "   0.00688539  0.11575098  0.00230486  0.01070552  0.00067524  0.00517046\n",
      "   0.03976666  0.01930919  0.00352922  0.07308457  0.00663457  0.02203006\n",
      "   0.03187041  0.02224694  0.00567552  0.01878669  0.04140617  0.00502991\n",
      "   0.0017764   0.05789957  0.0137462   0.01882468  0.00878249  0.13748774\n",
      "   0.05267901  0.05515383  0.00122339  0.0019889   0.00822477  0.01583877\n",
      "   0.00707176  0.02100135  0.0295749   0.03516275  0.01295107  0.00452709\n",
      "   0.02072693]\n",
      " [ 0.00621899  0.04113696  0.00583967  0.02435948  0.01355137  0.01383165\n",
      "   0.01557126  0.084068    0.0035007   0.01491698  0.00253061  0.00692132\n",
      "   0.03320228  0.02885045  0.00380784  0.03110819  0.00753845  0.02986377\n",
      "   0.04794854  0.03032877  0.010286    0.02255861  0.03655748  0.01096978\n",
      "   0.00328079  0.03751244  0.01515112  0.02695145  0.00669445  0.08381926\n",
      "   0.06186154  0.03479732  0.00224455  0.00530448  0.01161414  0.0186261\n",
      "   0.01407195  0.02719396  0.023232    0.0531331   0.02652098  0.00848104\n",
      "   0.01404204]\n",
      " [ 0.00419049  0.0180432   0.00245242  0.01613299  0.01218684  0.00947487\n",
      "   0.01663559  0.09754763  0.00285292  0.01956537  0.00128906  0.00451499\n",
      "   0.04161289  0.02612274  0.00668541  0.08743095  0.00655318  0.0335624\n",
      "   0.02348011  0.01655411  0.00755695  0.01805765  0.04385804  0.00655945\n",
      "   0.00323206  0.07103639  0.01506871  0.0190912   0.00668295  0.12507397\n",
      "   0.0539696   0.04847671  0.00243389  0.00372349  0.00934995  0.01705156\n",
      "   0.01117732  0.01250365  0.02391451  0.02257042  0.00997277  0.00681784\n",
      "   0.01493276]\n",
      " [ 0.00315726  0.02095839  0.00207088  0.02805879  0.02189461  0.01870598\n",
      "   0.00854485  0.06743129  0.00337713  0.0293345   0.00093675  0.00446144\n",
      "   0.04490663  0.02558079  0.00246885  0.03644715  0.00449606  0.03094765\n",
      "   0.05003201  0.02663185  0.00534475  0.01670398  0.06804247  0.00528333\n",
      "   0.00209592  0.03342243  0.01657612  0.03361347  0.00347746  0.16740255\n",
      "   0.04102774  0.04338987  0.00099724  0.00212896  0.00580168  0.01201396\n",
      "   0.00543968  0.01140968  0.0191095   0.05297595  0.00607722  0.00455932\n",
      "   0.0126638 ]\n",
      " [ 0.00765303  0.02216486  0.01293339  0.0330114   0.02164784  0.02484313\n",
      "   0.01638302  0.05094524  0.00698004  0.0155268   0.00368265  0.00927456\n",
      "   0.03815796  0.03175445  0.00556921  0.03538974  0.01404555  0.01975443\n",
      "   0.0379299   0.01838241  0.00977043  0.01844034  0.0344962   0.01368558\n",
      "   0.00657982  0.03705043  0.020383    0.02519347  0.01000091  0.05229193\n",
      "   0.03468207  0.09263918  0.00518656  0.00970894  0.01226385  0.01889697\n",
      "   0.01446744  0.03513705  0.03251278  0.04782945  0.01371911  0.00837948\n",
      "   0.02065535]\n",
      " [ 0.00421848  0.02361941  0.01387459  0.01407749  0.01586495  0.0244858\n",
      "   0.01657501  0.04684779  0.00786348  0.01610079  0.00455769  0.0146055\n",
      "   0.0594427   0.03300098  0.0033278   0.04674403  0.01438569  0.020918\n",
      "   0.04577867  0.00723064  0.00654235  0.01497135  0.02005004  0.01264057\n",
      "   0.00881631  0.03812136  0.02543139  0.0112843   0.00564701  0.0827319\n",
      "   0.03839127  0.07787395  0.00497854  0.00750842  0.00560556  0.03073799\n",
      "   0.00909836  0.01702137  0.04822228  0.05584914  0.01914487  0.0100756\n",
      "   0.01573644]]\n",
      "accuracy of precition is  0.0909091\n",
      "TopKV2(values=array([[ 0.11309571,  0.0968141 ,  0.08041748,  0.07061362,  0.06415305],\n",
      "       [ 0.10359158,  0.07552619,  0.07277133,  0.06852883,  0.06626485],\n",
      "       [ 0.08460754,  0.08018047,  0.08017366,  0.06802694,  0.06551289],\n",
      "       [ 0.13568844,  0.06367744,  0.06281704,  0.05314424,  0.05203114],\n",
      "       [ 0.07249242,  0.06718504,  0.04857328,  0.04811524,  0.04403731],\n",
      "       [ 0.13748774,  0.11575098,  0.07308457,  0.05789957,  0.05515383],\n",
      "       [ 0.084068  ,  0.08381926,  0.06186154,  0.0531331 ,  0.04794854],\n",
      "       [ 0.12507397,  0.09754763,  0.08743095,  0.07103639,  0.0539696 ],\n",
      "       [ 0.16740255,  0.06804247,  0.06743129,  0.05297595,  0.05003201],\n",
      "       [ 0.09263918,  0.05229193,  0.05094524,  0.04782945,  0.03815796],\n",
      "       [ 0.0827319 ,  0.07787395,  0.0594427 ,  0.05584914,  0.04822228]], dtype=float32), indices=array([[18, 29, 31, 39, 15],\n",
      "       [29, 25, 18, 31, 15],\n",
      "       [39, 25, 18, 12, 29],\n",
      "       [29, 39, 38,  7, 22],\n",
      "       [29,  7, 31, 18, 39],\n",
      "       [29,  7, 15, 25, 31],\n",
      "       [ 7, 29, 30, 39, 18],\n",
      "       [29,  7, 15, 25, 30],\n",
      "       [29, 22,  7, 39, 18],\n",
      "       [31, 29,  7, 39, 12],\n",
      "       [29, 31, 12, 39, 38]]))\n"
     ]
    }
   ],
   "source": [
    "### Run the predictions here.\n",
    "### Feel free to use as many code cells as needed.\n",
    "import os\n",
    "import matplotlib.pyplot as plt\n",
    "import matplotlib.image as mpimg\n",
    "%matplotlib inline\n",
    "\n",
    "\"\"\"\n",
    "def evaluation(logits, labels):\n",
    "    Evaluate the quality of the logits at predicting the label.\n",
    "\n",
    "  Args:\n",
    "    logits: Logits tensor, float - [batch_size, NUM_CLASSES].\n",
    "    labels: Labels tensor, int32 - [batch_size], with values in the\n",
    "      range [0, NUM_CLASSES).\n",
    "\n",
    "  Returns:\n",
    "    A scalar int32 tensor with the number of examples (out of batch_size)\n",
    "    that were predicted correctly.\n",
    "  \n",
    "  # For a classifier model, we can use the in_top_k Op.\n",
    "  # It returns a bool tensor with shape [batch_size] that is true for\n",
    "  # the examples where the label's is was in the top k (here k=1)\n",
    "  # of all logits for that example.\n",
    "  correct = tf.nn.in_top_k(logits, labels, 1)\n",
    "  # Return the number of true entries.\n",
    "  return tf.reduce_sum(tf.cast(correct, tf.int32))\n",
    "\"\"\"\n",
    "file_path=\"./download signs/\"\n",
    "file_list=os.listdir(file_path)\n",
    "print(file_list)\n",
    "web_images=[]\n",
    "web_labels=[1,13,14,15,17,18,21,26,27,31,35]\n",
    "for i in range(len(file_list)):\n",
    "    image = mpimg.imread(file_path+file_list[i])\n",
    "    image=cv2.resize(image, (32, 32))\n",
    "    web_images.append(image)\n",
    "web_images=np.array(web_images)\n",
    "web_images_gray=np.array(rgb2gray(web_images),dtype=np.float32).reshape((len(web_images),32,32,1))\n",
    "web_images_gray_normal=image_normalizing(web_images_gray)\n",
    "\n",
    "\n",
    "x = tf.placeholder(tf.float32, (None, 32, 32,1))\n",
    "y = tf.placeholder(tf.int32, (None))\n",
    "logits = LeNetModify1(web_images_gray_normal)\n",
    "probability = tf.nn.softmax(logits)\n",
    "prediction=tf.argmax(probability,axis=1)\n",
    "\n",
    "topFive=tf.nn.top_k(probability, k=5, sorted=True, name=None)\n",
    "top_k_feed_dict = {x: web_images_gray_normal}\n",
    "\n",
    "correct_predictions = tf.equal(prediction, web_labels)\n",
    "accuracy = tf.reduce_mean(tf.cast(correct_predictions, tf.float32))\n",
    "\n",
    "save_file=\".\\model.ckpt\"\n",
    "#saver = tf.train.Saver()\n",
    "\n",
    "with tf.Session() as sess:\n",
    "    sess.run(tf.initialize_all_variables())\n",
    "    ckpt = tf.train.get_checkpoint_state(\"./\")\n",
    "    if ckpt and ckpt.model_checkpoint_path:\n",
    "        print(\"Continue training from the model {}\".format(ckpt.model_checkpoint_path))\n",
    "        #print(saver)\n",
    "        #print(saver.restore(sess, ckpt.model_checkpoint_path))\n",
    "    ckpt = tf.train.import_meta_graph('model.ckpt.meta')\n",
    "    ckpt.restore(sess, './model.ckpt')\n",
    "    #print(saver.restore(sess,save_file))\n",
    "    print(\"web image labels are\",web_labels)\n",
    "    print(\"predictions are\",sess.run(prediction))\n",
    "    print(\" probabilities are\",sess.run(probability))\n",
    "    print(\"accuracy of precition is \",accuracy.eval())\n",
    "    print(sess.run(topFive, feed_dict = top_k_feed_dict))\n",
    "    \n"
   ]
  },
  {
   "cell_type": "code",
   "execution_count": 17,
   "metadata": {
    "collapsed": false
   },
   "outputs": [
    {
     "data": {
      "image/png": "[encoded data removed]",
      "text/plain": [
       "<matplotlib.figure.Figure at 0x2143a81d550>"
      ]
     },
     "metadata": {},
     "output_type": "display_data"
    },
    {
     "data": {
      "image/png": "[encoded data removed]",
      "text/plain": [
       "<matplotlib.figure.Figure at 0x214865f6390>"
      ]
     },
     "metadata": {},
     "output_type": "display_data"
    },
    {
     "data": {
      "image/png": "[encoded data removed]",
      "text/plain": [
       "<matplotlib.figure.Figure at 0x21486615cc0>"
      ]
     },
     "metadata": {},
     "output_type": "display_data"
    },
    {
     "data": {
      "image/png": "[encoded data removed]",
      "text/plain": [
       "<matplotlib.figure.Figure at 0x214863547f0>"
      ]
     },
     "metadata": {},
     "output_type": "display_data"
    },
    {
     "data": {
      "image/png": "[encoded data removed]",
      "text/plain": [
       "<matplotlib.figure.Figure at 0x214865b1e48>"
      ]
     },
     "metadata": {},
     "output_type": "display_data"
    },
    {
     "data": {
      "image/png": "[encoded data removed]",
      "text/plain": [
       "<matplotlib.figure.Figure at 0x21486ba0eb8>"
      ]
     },
     "metadata": {},
     "output_type": "display_data"
    },
    {
     "data": {
      "image/png": "[encoded data removed]",
      "text/plain": [
       "<matplotlib.figure.Figure at 0x214865cfe48>"
      ]
     },
     "metadata": {},
     "output_type": "display_data"
    },
    {
     "data": {
      "image/png": "[encoded data removed]",
      "text/plain": [
       "<matplotlib.figure.Figure at 0x21486c881d0>"
      ]
     },
     "metadata": {},
     "output_type": "display_data"
    },
    {
     "data": {
      "image/png": "[encoded data removed]",
      "text/plain": [
       "<matplotlib.figure.Figure at 0x21486cb1240>"
      ]
     },
     "metadata": {},
     "output_type": "display_data"
    },
    {
     "data": {
      "image/png": "[encoded data removed]",
      "text/plain": [
       "<matplotlib.figure.Figure at 0x21486d61ac8>"
      ]
     },
     "metadata": {},
     "output_type": "display_data"
    },
    {
     "data": {
      "image/png": "[encoded data removed]",
      "text/plain": [
       "<matplotlib.figure.Figure at 0x21486dd5c50>"
      ]
     },
     "metadata": {},
     "output_type": "display_data"
    }
   ],
   "source": [
    "for i in range(len(web_images)):\n",
    "    image = web_images[i].squeeze()\n",
    "    plt.figure(figsize=(1,1))\n",
    "    plt.imshow(image)"
   ]
  },
  {
   "cell_type": "markdown",
   "metadata": {},
   "source": [
    "import matplotlib.gridspec as gridspec\n",
    "from tqdm import *\n",
    "\n",
    "sample_size = 5 #five images per class label\n",
    "n_labels = 43\n",
    "count = 0 #book keeping for plots\n",
    "fig = plt.figure(figsize=(sample_size, n_labels))\n",
    "grid = gridspec.GridSpec(n_labels, sample_size, wspace=0.0, hspace=0.0)\n",
    "labelset_pbar = tqdm(range(n_labels), desc='Sample test images', unit='labels')\n",
    "for i in labelset_pbar:\n",
    "    ind = y_test == i\n",
    "    subset_x = X_test[ind,] #get all images that belong to class i\n",
    "    for x in range(sample_size):\n",
    "        img = random.choice(subset_x) #randomly pick on image from class i\n",
    "        ax = plt.Subplot(fig, grid[count])\n",
    "        ax.set_xticks([])\n",
    "        ax.set_yticks([])\n",
    "        ax.imshow(img, cmap='gray')\n",
    "        fig.add_subplot(ax)\n",
    "        count +=1\n",
    "\n",
    "    # hide the borders\n",
    "    if i == (n_labels-1):\n",
    "        all_axes = fig.get_axes()\n",
    "        for ax in all_axes:\n",
    "            for sp in ax.spines.values():\n",
    "                sp.set_visible(False)\n",
    "plt.show()"
   ]
  },
  {
   "cell_type": "markdown",
   "metadata": {},
   "source": [
    "### Question 7\n",
    "\n",
    "_Is your model able to perform equally well on captured pictures when compared to testing on the dataset? The simplest way to do this check the accuracy of the predictions. For example, if the model predicted 1 out of 5 signs correctly, it's 20% accurate._\n",
    "\n",
    "_**NOTE:** You could check the accuracy manually by using `signnames.csv` (same directory). This file has a mapping from the class id (0-42) to the corresponding sign name. So, you could take the class id the model outputs, lookup the name in `signnames.csv` and see if it matches the sign from the image._\n"
   ]
  },
  {
   "cell_type": "markdown",
   "metadata": {},
   "source": [
    "**Answer:**"
   ]
  },
  {
   "cell_type": "markdown",
   "metadata": {
    "collapsed": true
   },
   "source": [
    "my model perform just soso with an accuate rate is 7/11=0.636364. and i found the wrong predictions are caused by the  signs from other counties with extra characters added to the traffic labels."
   ]
  },
  {
   "cell_type": "markdown",
   "metadata": {},
   "source": [
    "### Question 8\n",
    "\n",
    "*Use the model's softmax probabilities to visualize the **certainty** of its predictions, [`tf.nn.top_k`](https://www.tensorflow.org/versions/r0.12/api_docs/python/nn.html#top_k) could prove helpful here. Which predictions is the model certain of? Uncertain? If the model was incorrect in its initial prediction, does the correct prediction appear in the top k? (k should be 5 at most)*\n",
    "\n",
    "`tf.nn.top_k` will return the values and indices (class ids) of the top k predictions. So if k=3, for each sign, it'll return the 3 largest probabilities (out of a possible 43) and the correspoding class ids.\n",
    "\n",
    "Take this numpy array as an example:\n",
    "\n",
    "```\n",
    "# (5, 6) array\n",
    "a = np.array([[ 0.24879643,  0.07032244,  0.12641572,  0.34763842,  0.07893497,\n",
    "         0.12789202],\n",
    "       [ 0.28086119,  0.27569815,  0.08594638,  0.0178669 ,  0.18063401,\n",
    "         0.15899337],\n",
    "       [ 0.26076848,  0.23664738,  0.08020603,  0.07001922,  0.1134371 ,\n",
    "         0.23892179],\n",
    "       [ 0.11943333,  0.29198961,  0.02605103,  0.26234032,  0.1351348 ,\n",
    "         0.16505091],\n",
    "       [ 0.09561176,  0.34396535,  0.0643941 ,  0.16240774,  0.24206137,\n",
    "         0.09155967]])\n",
    "```\n",
    "\n",
    "Running it through `sess.run(tf.nn.top_k(tf.constant(a), k=3))` produces:\n",
    "\n",
    "```\n",
    "TopKV2(values=array([[ 0.34763842,  0.24879643,  0.12789202],\n",
    "       [ 0.28086119,  0.27569815,  0.18063401],\n",
    "       [ 0.26076848,  0.23892179,  0.23664738],\n",
    "       [ 0.29198961,  0.26234032,  0.16505091],\n",
    "       [ 0.34396535,  0.24206137,  0.16240774]]), indices=array([[3, 0, 5],\n",
    "       [0, 1, 4],\n",
    "       [0, 5, 1],\n",
    "       [1, 3, 5],\n",
    "       [1, 4, 3]], dtype=int32))\n",
    "```\n",
    "\n",
    "Looking just at the first row we get `[ 0.34763842,  0.24879643,  0.12789202]`, you can confirm these are the 3 largest probabilities in `a`. You'll also notice `[3, 0, 5]` are the corresponding indices."
   ]
  },
  {
   "cell_type": "markdown",
   "metadata": {},
   "source": [
    "**Answer:**"
   ]
  },
  {
   "cell_type": "markdown",
   "metadata": {},
   "source": [
    "> **Note**: Once you have completed all of the code implementations and successfully answered each question above, you may finalize your work by exporting the iPython Notebook as an HTML document. You can do this by using the menu above and navigating to  \\n\",\n",
    "    \"**File -> Download as -> HTML (.html)**. Include the finished document along with this notebook as your submission."
   ]
  },
  {
   "cell_type": "code",
   "execution_count": 19,
   "metadata": {
    "collapsed": false
   },
   "outputs": [
    {
     "name": "stdout",
     "output_type": "stream",
     "text": [
      "WARNING:tensorflow:From <ipython-input-19-deb1afa8e501>:9 in <module>.: initialize_all_variables (from tensorflow.python.ops.variables) is deprecated and will be removed after 2017-03-02.\n",
      "Instructions for updating:\n",
      "Use `tf.global_variables_initializer` instead.\n",
      "TopKV2(values=array([[ 0.28507429,  0.06884204,  0.05951475,  0.05602842,  0.04012862],\n",
      "       [ 0.18350342,  0.0985667 ,  0.07588598,  0.06097144,  0.04414776],\n",
      "       [ 0.21701965,  0.09165222,  0.05466859,  0.05087453,  0.040593  ],\n",
      "       [ 0.15066741,  0.06781102,  0.05338572,  0.04906429,  0.04711688],\n",
      "       [ 0.10862678,  0.07376833,  0.06412438,  0.05917989,  0.05773789],\n",
      "       [ 0.19889711,  0.14263745,  0.11174174,  0.06229178,  0.05054193],\n",
      "       [ 0.14879502,  0.08585267,  0.0744562 ,  0.07265954,  0.05431537],\n",
      "       [ 0.16112205,  0.09692021,  0.07380766,  0.06559175,  0.05714148],\n",
      "       [ 0.21704572,  0.06588832,  0.06215843,  0.06020235,  0.05984039],\n",
      "       [ 0.07701658,  0.05651635,  0.04593945,  0.04362527,  0.04144436],\n",
      "       [ 0.17343099,  0.07774289,  0.06232468,  0.06220559,  0.05300493]], dtype=float32), indices=array([[28, 29, 22, 31, 38],\n",
      "       [28, 38, 29, 31, 22],\n",
      "       [28, 31, 22, 38, 12],\n",
      "       [28, 31, 29, 35, 22],\n",
      "       [28, 12, 37, 31, 22],\n",
      "       [28, 22, 31, 29,  4],\n",
      "       [28, 29, 31, 22,  4],\n",
      "       [28, 31, 22, 38,  4],\n",
      "       [28, 38, 22, 29, 31],\n",
      "       [28, 22, 37, 38, 12],\n",
      "       [28, 31,  7, 12, 22]]))\n",
      "Continue training from the model ./test.ckpt\n",
      "TopKV2(values=array([[ 0.28507429,  0.06884204,  0.05951475,  0.05602842,  0.04012862],\n",
      "       [ 0.18350342,  0.0985667 ,  0.07588598,  0.06097144,  0.04414776],\n",
      "       [ 0.21701965,  0.09165222,  0.05466859,  0.05087453,  0.040593  ],\n",
      "       [ 0.15066741,  0.06781102,  0.05338572,  0.04906429,  0.04711688],\n",
      "       [ 0.10862678,  0.07376833,  0.06412438,  0.05917989,  0.05773789],\n",
      "       [ 0.19889711,  0.14263745,  0.11174174,  0.06229178,  0.05054193],\n",
      "       [ 0.14879502,  0.08585267,  0.0744562 ,  0.07265954,  0.05431537],\n",
      "       [ 0.16112205,  0.09692021,  0.07380766,  0.06559175,  0.05714148],\n",
      "       [ 0.21704572,  0.06588832,  0.06215843,  0.06020235,  0.05984039],\n",
      "       [ 0.07701658,  0.05651635,  0.04593945,  0.04362527,  0.04144436],\n",
      "       [ 0.17343099,  0.07774289,  0.06232468,  0.06220559,  0.05300493]], dtype=float32), indices=array([[28, 29, 22, 31, 38],\n",
      "       [28, 38, 29, 31, 22],\n",
      "       [28, 31, 22, 38, 12],\n",
      "       [28, 31, 29, 35, 22],\n",
      "       [28, 12, 37, 31, 22],\n",
      "       [28, 22, 31, 29,  4],\n",
      "       [28, 29, 31, 22,  4],\n",
      "       [28, 31, 22, 38,  4],\n",
      "       [28, 38, 22, 29, 31],\n",
      "       [28, 22, 37, 38, 12],\n",
      "       [28, 31,  7, 12, 22]]))\n"
     ]
    }
   ],
   "source": [
    "\n",
    "x = tf.placeholder(tf.float32, (None, 32, 32,1))\n",
    "y = tf.placeholder(tf.int32, (None))\n",
    "logits = LeNetModify1(web_images_gray_normal)\n",
    "prediction = tf.nn.softmax(logits)\n",
    "topFive=tf.nn.top_k(prediction, k=5, sorted=True, name=None)\n",
    "top_k_feed_dict = {x: web_images_gray_normal}\n",
    "\n",
    "init_op = tf.initialize_all_variables()\n",
    "\n",
    "\n",
    "save_file=\".\\model.ckpt\"\n",
    "#saver = tf.train.Saver()\n",
    "with tf.Session() as sess:\n",
    "    sess.run(init_op)\n",
    "    top_k_probabilities = sess.run(topFive, feed_dict=top_k_feed_dict)\n",
    "    print(top_k_probabilities)\n",
    "    values = np.array([top_k_probabilities.values])\n",
    "    indices = np.array([top_k_probabilities.indices])\n",
    "    #sess.run(tf.initialize_all_variables())\n",
    "    ckpt = tf.train.get_checkpoint_state(\"./\")\n",
    "    if ckpt and ckpt.model_checkpoint_path:\n",
    "        print(\"Continue training from the model {}\".format(ckpt.model_checkpoint_path))\n",
    "        #print(saver)\n",
    "        #print(saver.restore(sess, ckpt.model_checkpoint_path))\n",
    "    ckpt = tf.train.import_meta_graph('model.ckpt.meta')\n",
    "    ckpt.restore(sess, './model.ckpt')\n",
    "    #print(save_file)\n",
    "    #print(saver.restore(sess,save_file))\n",
    "    print(sess.run(topFive, feed_dict = top_k_feed_dict))\n",
    "    #sess.run(evaluation(logits,web_labels))\n",
    "    #web_images_test_accuracy = evaluate(web_images_gray_normal, web_labels)\n",
    "    #print(\"Test Accuracy = {:.3f}\".format(test_accuracy))\n",
    "    #print(session.run(y_pred,feed_dict = {x: web_images_gray_normal}))"
   ]
  },
  {
   "cell_type": "code",
   "execution_count": 20,
   "metadata": {
    "collapsed": false
   },
   "outputs": [
    {
     "name": "stdout",
     "output_type": "stream",
     "text": [
      "(1, 11, 5)\n",
      "[[[ 0.28507429  0.06884204  0.05951475  0.05602842  0.04012862]\n",
      "  [ 0.18350342  0.0985667   0.07588598  0.06097144  0.04414776]\n",
      "  [ 0.21701965  0.09165222  0.05466859  0.05087453  0.040593  ]\n",
      "  [ 0.15066741  0.06781102  0.05338572  0.04906429  0.04711688]\n",
      "  [ 0.10862678  0.07376833  0.06412438  0.05917989  0.05773789]\n",
      "  [ 0.19889711  0.14263745  0.11174174  0.06229178  0.05054193]\n",
      "  [ 0.14879502  0.08585267  0.0744562   0.07265954  0.05431537]\n",
      "  [ 0.16112205  0.09692021  0.07380766  0.06559175  0.05714148]\n",
      "  [ 0.21704572  0.06588832  0.06215843  0.06020235  0.05984039]\n",
      "  [ 0.07701658  0.05651635  0.04593945  0.04362527  0.04144436]\n",
      "  [ 0.17343099  0.07774289  0.06232468  0.06220559  0.05300493]]]\n"
     ]
    },
    {
     "data": {
      "image/png": "[encoded data removed]",
      "text/plain": [
       "<matplotlib.figure.Figure at 0x21486e29d68>"
      ]
     },
     "metadata": {},
     "output_type": "display_data"
    },
    {
     "name": "stdout",
     "output_type": "stream",
     "text": [
      "raw top_k results:\n",
      "\n",
      "tf.nn.top_k(prediction, 5).values  [array([ 0.28507429,  0.06884204,  0.05951475,  0.05602842,  0.04012862], dtype=float32), array([ 0.18350342,  0.0985667 ,  0.07588598,  0.06097144,  0.04414776], dtype=float32), array([ 0.21701965,  0.09165222,  0.05466859,  0.05087453,  0.040593  ], dtype=float32), array([ 0.15066741,  0.06781102,  0.05338572,  0.04906429,  0.04711688], dtype=float32), array([ 0.10862678,  0.07376833,  0.06412438,  0.05917989,  0.05773789], dtype=float32), array([ 0.19889711,  0.14263745,  0.11174174,  0.06229178,  0.05054193], dtype=float32), array([ 0.14879502,  0.08585267,  0.0744562 ,  0.07265954,  0.05431537], dtype=float32), array([ 0.16112205,  0.09692021,  0.07380766,  0.06559175,  0.05714148], dtype=float32), array([ 0.21704572,  0.06588832,  0.06215843,  0.06020235,  0.05984039], dtype=float32), array([ 0.07701658,  0.05651635,  0.04593945,  0.04362527,  0.04144436], dtype=float32), array([ 0.17343099,  0.07774289,  0.06232468,  0.06220559,  0.05300493], dtype=float32)]\n",
      "tf.nn.top_k(prediction, 5).indices [array([28, 29, 22, 31, 38]), array([28, 38, 29, 31, 22]), array([28, 31, 22, 38, 12]), array([28, 31, 29, 35, 22]), array([28, 12, 37, 31, 22]), array([28, 22, 31, 29,  4]), array([28, 29, 31, 22,  4]), array([28, 31, 22, 38,  4]), array([28, 38, 22, 29, 31]), array([28, 22, 37, 38, 12]), array([28, 31,  7, 12, 22])]\n",
      "\n",
      "\n"
     ]
    }
   ],
   "source": [
    "def plot_top_k_probabilities(pred_cls, pred_prob, title):\n",
    "    plt.plot(list(pred_cls), list(pred_prob), 'ro')\n",
    "    x1,x2,y1,y2 = plt.axis()\n",
    "    plt.axis((x1-1,x2+1,y1,y2+0.1))\n",
    "\n",
    "    plt.ylabel('Probability')\n",
    "    plt.title(title)\n",
    " \n",
    "    plt.show()\n",
    "\n",
    "print(values.shape) \n",
    "print(values)\n",
    "\n",
    "for i in range(len(values)):\n",
    "    predicted_class = indices[i][np.argmax(values[i])]\n",
    "    # NOTE: You'll need to refer to your newdata's correct labels here. \n",
    "    # Swap out \"newdata_labels\" with your actual \"true labels\" array.\n",
    "    correct_class = web_labels[i]\n",
    "    plot_title = 'Predicted: {}\\nCorrect: {}'.format(predicted_class, correct_class) \n",
    "    \n",
    "    plot_top_k_probabilities(indices[i], values[i], plot_title)\n",
    "    \n",
    "    print('raw top_k results:')\n",
    "    print('')\n",
    "    print('tf.nn.top_k(prediction, 5).values ', list(values[i]))\n",
    "    print('tf.nn.top_k(prediction, 5).indices', list(indices[i]))\n",
    "    \n",
    "    \n",
    "    print('')\n",
    "    print('')"
   ]
  },
  {
   "cell_type": "code",
   "execution_count": null,
   "metadata": {
    "collapsed": true
   },
   "outputs": [],
   "source": []
  }
 ],
 "metadata": {
  "anaconda-cloud": {},
  "kernelspec": {
   "display_name": "Python [default]",
   "language": "python",
   "name": "python3"
  },
  "language_info": {
   "codemirror_mode": {
    "name": "ipython",
    "version": 3
   },
   "file_extension": ".py",
   "mimetype": "text/x-python",
   "name": "python",
   "nbconvert_exporter": "python",
   "pygments_lexer": "ipython3",
   "version": "3.5.2"
  }
 },
 "nbformat": 4,
 "nbformat_minor": 1
}
